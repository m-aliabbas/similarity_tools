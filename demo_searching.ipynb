{
 "cells": [
  {
   "cell_type": "code",
   "execution_count": 1,
   "metadata": {},
   "outputs": [
    {
     "name": "stderr",
     "output_type": "stream",
     "text": [
      "/home/ali/anaconda3/envs/pytorch2/lib/python3.10/site-packages/tqdm/auto.py:21: TqdmWarning: IProgress not found. Please update jupyter and ipywidgets. See https://ipywidgets.readthedocs.io/en/stable/user_install.html\n",
      "  from .autonotebook import tqdm as notebook_tqdm\n"
     ]
    }
   ],
   "source": [
    "from SearchEngine import SearchEngine"
   ]
  },
  {
   "cell_type": "code",
   "execution_count": 2,
   "metadata": {},
   "outputs": [],
   "source": [
    "import pandas as pd"
   ]
  },
  {
   "cell_type": "code",
   "execution_count": 3,
   "metadata": {},
   "outputs": [],
   "source": [
    "data_list = list(pd.read_csv('Data/base_data.csv')['Text'].values)"
   ]
  },
  {
   "cell_type": "code",
   "execution_count": 4,
   "metadata": {},
   "outputs": [
    {
     "name": "stdout",
     "output_type": "stream",
     "text": [
      "./Stores/search_base.csv\n"
     ]
    }
   ],
   "source": [
    "search_enginge = SearchEngine(db_path='./Stores/search_db',store_path='./Stores/search_base.csv')"
   ]
  },
  {
   "cell_type": "code",
   "execution_count": 5,
   "metadata": {},
   "outputs": [
    {
     "name": "stdout",
     "output_type": "stream",
     "text": [
      "thresold 0.6\n",
      "[+] Refreshing Indexes\n"
     ]
    }
   ],
   "source": [
    "results = search_enginge.search('i not like',data_list,threshold=0.6)"
   ]
  },
  {
   "cell_type": "code",
   "execution_count": 6,
   "metadata": {},
   "outputs": [
    {
     "data": {
      "text/plain": [
       "(([\"You're a piece of crap.\",\n",
       "   'Please take my number off your call list.',\n",
       "   ' Not interested. ',\n",
       "   \"I'm still alive, dog\",\n",
       "   \"I'm not interested in.\",\n",
       "   'please stop calling this number. I would appreciate it.',\n",
       "   \"you're calling an elementary school.\",\n",
       "   'not right now. Not interested.',\n",
       "   \"I'm not interested.\"],\n",
       "  [0.67, 0.71, 0.71, 0.71, 0.71, 0.71, 0.71, 0.67, 0.67]),\n",
       " ([\"I don't like this.\"], [0.60008645]))"
      ]
     },
     "execution_count": 6,
     "metadata": {},
     "output_type": "execute_result"
    }
   ],
   "source": [
    "results"
   ]
  },
  {
   "cell_type": "code",
   "execution_count": 7,
   "metadata": {},
   "outputs": [],
   "source": [
    "data1,data2 = results"
   ]
  },
  {
   "cell_type": "code",
   "execution_count": 8,
   "metadata": {},
   "outputs": [
    {
     "data": {
      "text/plain": [
       "([\"I don't like this.\"], [0.60008645])"
      ]
     },
     "execution_count": 8,
     "metadata": {},
     "output_type": "execute_result"
    }
   ],
   "source": [
    "data2"
   ]
  },
  {
   "cell_type": "code",
   "execution_count": 9,
   "metadata": {},
   "outputs": [],
   "source": [
    "def rank_by_confidence(data1, data2):\n",
    "    # Combine the two datasets\n",
    "    combined_data = data1[0] + data2[0]\n",
    "    combined_scores = data1[1] + data2[1]\n",
    "    \n",
    "    # Pair each statement with its confidence score\n",
    "    paired_data = list(zip(combined_data, combined_scores))\n",
    "    \n",
    "    # Sort the paired data by confidence score in descending order\n",
    "    paired_data.sort(key=lambda x: x[1], reverse=True)\n",
    "    \n",
    "    results = [data[0] for data in paired_data]\n",
    "    return results"
   ]
  },
  {
   "cell_type": "code",
   "execution_count": 10,
   "metadata": {},
   "outputs": [
    {
     "data": {
      "text/plain": [
       "['Please take my number off your call list.',\n",
       " ' Not interested. ',\n",
       " \"I'm still alive, dog\",\n",
       " \"I'm not interested in.\",\n",
       " 'please stop calling this number. I would appreciate it.',\n",
       " \"you're calling an elementary school.\",\n",
       " \"You're a piece of crap.\",\n",
       " 'not right now. Not interested.',\n",
       " \"I'm not interested.\",\n",
       " \"I don't like this.\"]"
      ]
     },
     "execution_count": 10,
     "metadata": {},
     "output_type": "execute_result"
    }
   ],
   "source": [
    "rank_by_confidence(data1, data2)"
   ]
  },
  {
   "cell_type": "code",
   "execution_count": null,
   "metadata": {},
   "outputs": [],
   "source": []
  }
 ],
 "metadata": {
  "kernelspec": {
   "display_name": "pytorch2",
   "language": "python",
   "name": "python3"
  },
  "language_info": {
   "codemirror_mode": {
    "name": "ipython",
    "version": 3
   },
   "file_extension": ".py",
   "mimetype": "text/x-python",
   "name": "python",
   "nbconvert_exporter": "python",
   "pygments_lexer": "ipython3",
   "version": "3.10.11"
  },
  "orig_nbformat": 4
 },
 "nbformat": 4,
 "nbformat_minor": 2
}
